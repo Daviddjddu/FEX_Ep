{
 "cells": [
  {
   "cell_type": "code",
   "execution_count": null,
   "id": "91a8e52f",
   "metadata": {},
   "outputs": [],
   "source": [
    "%run scripts_SIR.py"
   ]
  },
  {
   "cell_type": "code",
   "execution_count": null,
   "id": "a4be311f",
   "metadata": {},
   "outputs": [],
   "source": [
    "%run scripts_SEIR.py"
   ]
  },
  {
   "cell_type": "code",
   "execution_count": null,
   "id": "13a63abb",
   "metadata": {},
   "outputs": [],
   "source": [
    "%run scripts_SEIRD.py"
   ]
  },
  {
   "cell_type": "code",
   "execution_count": null,
   "id": "3e9d0b4b",
   "metadata": {},
   "outputs": [],
   "source": [
    "%run script_Covid.py"
   ]
  },
  {
   "cell_type": "code",
   "execution_count": null,
   "id": "13bab1e9",
   "metadata": {},
   "outputs": [],
   "source": [
    "%run NN_SIR_error.py"
   ]
  },
  {
   "cell_type": "code",
   "execution_count": null,
   "id": "3facd39b",
   "metadata": {},
   "outputs": [],
   "source": [
    "%run NN_SEIR_error.py"
   ]
  },
  {
   "cell_type": "code",
   "execution_count": null,
   "id": "e6bfefc4",
   "metadata": {},
   "outputs": [],
   "source": [
    "%run NN_SEIRD_error.py"
   ]
  },
  {
   "cell_type": "code",
   "execution_count": null,
   "id": "976665ea",
   "metadata": {},
   "outputs": [],
   "source": [
    "%run RNN_SIR_error.py"
   ]
  },
  {
   "cell_type": "code",
   "execution_count": null,
   "id": "dec38979",
   "metadata": {},
   "outputs": [],
   "source": [
    "%run RNN_SEIR_error.py"
   ]
  },
  {
   "cell_type": "code",
   "execution_count": null,
   "id": "06dc865d",
   "metadata": {},
   "outputs": [],
   "source": [
    "%run RNN_SEIRD_error.py"
   ]
  },
  {
   "cell_type": "code",
   "execution_count": null,
   "id": "65c77981",
   "metadata": {},
   "outputs": [],
   "source": [
    "%run Fex_SIR_error.py"
   ]
  },
  {
   "cell_type": "code",
   "execution_count": null,
   "id": "32fc97f7",
   "metadata": {},
   "outputs": [],
   "source": [
    "%run Fex_SEIR_error.py"
   ]
  },
  {
   "cell_type": "code",
   "execution_count": null,
   "id": "19bccdbb",
   "metadata": {},
   "outputs": [],
   "source": [
    "%run Fex_SEIRD_error.py"
   ]
  },
  {
   "cell_type": "code",
   "execution_count": null,
   "id": "0106a44f",
   "metadata": {},
   "outputs": [],
   "source": [
    "%run Plot_SIR_MSE.py"
   ]
  },
  {
   "cell_type": "code",
   "execution_count": null,
   "id": "7fc53bc7",
   "metadata": {},
   "outputs": [],
   "source": [
    "%run Plot_SEIR_MSE.py"
   ]
  },
  {
   "cell_type": "code",
   "execution_count": null,
   "id": "6f11d93d",
   "metadata": {},
   "outputs": [],
   "source": [
    "%run Plot_SEIRD_MSE.py"
   ]
  },
  {
   "cell_type": "code",
   "execution_count": null,
   "id": "a91d9d0e",
   "metadata": {},
   "outputs": [],
   "source": [
    "%run Prediction_covid_100days.py"
   ]
  },
  {
   "cell_type": "code",
   "execution_count": null,
   "id": "c9267e38",
   "metadata": {},
   "outputs": [],
   "source": [
    "%run Q2(b).py"
   ]
  },
  {
   "cell_type": "code",
   "execution_count": 25,
   "id": "ed6c1219",
   "metadata": {},
   "outputs": [],
   "source": [
    "%run searching_fex_loss"
   ]
  },
  {
   "cell_type": "code",
   "execution_count": null,
   "id": "673f8d2d",
   "metadata": {},
   "outputs": [],
   "source": [
    "%run Loss_Epoch.py"
   ]
  }
 ],
 "metadata": {
  "kernelspec": {
   "display_name": "fex_covid",
   "language": "python",
   "name": "python3"
  },
  "language_info": {
   "codemirror_mode": {
    "name": "ipython",
    "version": 3
   },
   "file_extension": ".py",
   "mimetype": "text/x-python",
   "name": "python",
   "nbconvert_exporter": "python",
   "pygments_lexer": "ipython3",
   "version": "3.12.4"
  }
 },
 "nbformat": 4,
 "nbformat_minor": 5
}
